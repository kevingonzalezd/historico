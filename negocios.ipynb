{
 "cells": [
  {
   "cell_type": "markdown",
   "metadata": {},
   "source": [
    "# Importar Archivos"
   ]
  },
  {
   "cell_type": "code",
   "execution_count": 4,
   "metadata": {},
   "outputs": [],
   "source": [
    "import pandas as pd\n",
    "_2020EJ_= pd.read_excel('2020EJ.xlsx', sheet_name='Hoja 1')\n",
    "_2020AD_= pd.read_excel('2020AD.xlsx', sheet_name='Hoja 1')\n",
    "\n",
    "_2021EJ_= pd.read_excel('2021EJ.xlsx', sheet_name='Hoja 1')\n",
    "_2021AD_= pd.read_excel('2021AD.xlsx', sheet_name='Hoja 1')\n",
    "\n",
    "_2022EJ_= pd.read_excel('2022EJ.xlsx', sheet_name='Hoja 1')\n",
    "_2022AD_= pd.read_excel('2022AD.xlsx', sheet_name='Hoja 1')\n",
    "\n",
    "_2023EJ_= pd.read_excel('2023EJ.xlsx', sheet_name='Hoja 1')\n",
    "_2023AD_= pd.read_excel('2023AD.xlsx', sheet_name='Hoja 1')\n",
    "\n",
    "escuelas = pd.read_excel('life_negocios.xlsx', sheet_name='Sheet1')"
   ]
  },
  {
   "cell_type": "code",
   "execution_count": 11,
   "metadata": {},
   "outputs": [],
   "source": [
    "_2020EJ = _2020EJ_\n",
    "_2020AD = _2020AD_\n",
    "\n",
    "_2021EJ = _2021EJ_\n",
    "_2021AD = _2021AD_\n",
    "\n",
    "_2022EJ = _2022EJ_\n",
    "_2022AD = _2022AD_\n",
    "\n",
    "_2023EJ = _2023EJ_\n",
    "_2023AD = _2023AD_\n"
   ]
  },
  {
   "cell_type": "markdown",
   "metadata": {},
   "source": [
    "# Funciones"
   ]
  },
  {
   "cell_type": "code",
   "execution_count": 24,
   "metadata": {},
   "outputs": [],
   "source": [
    "def filtro_programa(df, escuela, portafolio, unicos):\n",
    "    \n",
    "    escuela1 = escuelas[ escuelas['Escuela']==escuela]\n",
    "    filtro_programas = escuela1['Programa'].unique()\n",
    "    \n",
    "    df=df[df['Clave Major Pgma Acad'].isin(filtro_programas)]\n",
    "    df=df[df['Clave Estatus Insc Grupo']==\"RE\"]\n",
    "    df = df[df['Ind Materia Life']=='SI']\n",
    "\n",
    "\n",
    "    if portafolio in [\"Y\", \"X\", \"KW\", \"KC\",\"KLID3\"]:\n",
    "        df = df[df['Clave Materia'].str.startswith(portafolio)]\n",
    "\n",
    "    elif portafolio == \"Gobierno\":\n",
    "        df = df[(df['Clave Materia'].isin([\"KLID3002\", \"KLID5001\"]))]\n",
    "\n",
    "    elif portafolio in [\"Compañía\", \"Selección\", \"Representativo\"]:\n",
    "        df = df[df['Nombre Materia Largo'].str.startswith(portafolio)]\n",
    "\n",
    "    elif portafolio == \"Clases_y\":\n",
    "        df = df[(df['Clave Materia'].str.startswith(\"Y\")) &\n",
    "                (~df['Nombre Materia Largo'].str.startswith('Compañía'))]\n",
    "        \n",
    "    elif portafolio == \"Clases_x\":\n",
    "        df = df[(df['Clave Materia'].str.startswith(\"X\")) &\n",
    "                (~df['Nombre Materia Largo'].str.startswith(\"Selección\")) &\n",
    "                (~df['Nombre Materia Largo'].str.startswith(\"Representativo\"))]\n",
    "\n",
    "\n",
    "\n",
    "    if unicos == \"SI\":\n",
    "        df = df.drop_duplicates(subset='Matricula')\n",
    "\n",
    "    return df\n",
    "\n",
    "\n",
    "def imprimir(_1,_2,_3,_4,_5,_6,_7,_8, escuela,portafolio, unicos):\n",
    "\n",
    "\n",
    "\n",
    "    _1 =filtro_programa(_1,escuela,portafolio, unicos)\n",
    "    _2 =filtro_programa(_2,escuela,portafolio, unicos)\n",
    "\n",
    "    _3 =filtro_programa(_3,escuela,portafolio, unicos)\n",
    "    _4 =filtro_programa(_4,escuela,portafolio, unicos)\n",
    "\n",
    "    _5 =filtro_programa(_5,escuela,portafolio, unicos)\n",
    "    _6 =filtro_programa(_6,escuela,portafolio, unicos)\n",
    "\n",
    "    _7 =filtro_programa(_7,escuela,portafolio, unicos)\n",
    "    _8 =filtro_programa(_8,escuela,portafolio, unicos)\n",
    "\n",
    "    print(escuela+' '+portafolio+\" 2020: \", len(_1)+len(_2))\n",
    "    print(escuela+' '+portafolio+\" 2021: \", len(_3)+len(_4))\n",
    "    print(escuela+' '+portafolio+\" 2022: \", len(_5)+len(_6))\n",
    "    print(escuela+' '+portafolio+\" 2023: \", len(_7)+len(_8))\n",
    "\n",
    "\n"
   ]
  },
  {
   "cell_type": "markdown",
   "metadata": {},
   "source": [
    "# Arquitectura, Arte y Diseño"
   ]
  },
  {
   "cell_type": "code",
   "execution_count": 43,
   "metadata": {},
   "outputs": [],
   "source": [
    "escuela_str=\"Arquitectura, Arte y Diseño\""
   ]
  },
  {
   "cell_type": "code",
   "execution_count": 44,
   "metadata": {},
   "outputs": [
    {
     "name": "stdout",
     "output_type": "stream",
     "text": [
      "Arquitectura, Arte y Diseño 2020 totales:  8254\n",
      "Arquitectura, Arte y Diseño 2021 totales:  6142\n",
      "Arquitectura, Arte y Diseño 2022 totales:  7865\n",
      "Arquitectura, Arte y Diseño 2023 totales:  13801\n"
     ]
    }
   ],
   "source": [
    "escuela1 = escuelas[ escuelas['Escuela']==escuela_str]\n",
    "filtro_programas = escuela1['Programa'].unique()\n",
    "_2020EJ1 = _2020EJ_\n",
    "_2020AD1 = _2020AD_\n",
    "\n",
    "_2021EJ1 = _2021EJ_\n",
    "_2021AD1 = _2021AD_\n",
    "\n",
    "_2022EJ1 = _2022EJ_\n",
    "_2022AD1 = _2022AD_\n",
    "\n",
    "_2023EJ1 = _2023EJ_\n",
    "_2023AD1 = _2023AD_\n",
    "\n",
    "#2020    \n",
    "_2020EJ1=_2020EJ1[_2020EJ1['Clave Major Pgma Acad'].isin(filtro_programas)]\n",
    "_2020EJ1=_2020EJ1[_2020EJ1['Clave Estatus Insc Grupo']==\"RE\"]\n",
    "_2020EJ1=_2020EJ1[_2020EJ1['Ind Materia Life']=='SI']\n",
    "\n",
    "_2020AD1=_2020AD1[_2020AD1['Clave Major Pgma Acad'].isin(filtro_programas)]\n",
    "_2020AD1=_2020AD1[_2020AD1['Clave Estatus Insc Grupo']==\"RE\"]\n",
    "_2020AD1=_2020AD1[_2020AD1['Ind Materia Life']=='SI']\n",
    "\n",
    "#2021\n",
    "_2021EJ1=_2021EJ1[_2021EJ1['Clave Major Pgma Acad'].isin(filtro_programas)]\n",
    "_2021EJ1=_2021EJ1[_2021EJ1['Clave Estatus Insc Grupo']==\"RE\"]\n",
    "_2021EJ1=_2021EJ1[_2021EJ1['Ind Materia Life']=='SI']\n",
    "\n",
    "_2021AD1=_2021AD1[_2021AD1['Clave Major Pgma Acad'].isin(filtro_programas)]\n",
    "_2021AD1=_2021AD1[_2021AD1['Clave Estatus Insc Grupo']==\"RE\"]\n",
    "_2021AD1=_2021AD1[_2021AD1['Ind Materia Life']=='SI']\n",
    "\n",
    "#2022\n",
    "_2022EJ1=_2022EJ1[_2022EJ1['Clave Major Pgma Acad'].isin(filtro_programas)]\n",
    "_2022EJ1=_2022EJ1[_2022EJ1['Clave Estatus Insc Grupo']==\"RE\"]\n",
    "_2022EJ1=_2022EJ1[_2022EJ1['Ind Materia Life']=='SI']\n",
    "\n",
    "_2022AD1=_2022AD1[_2022AD1['Clave Major Pgma Acad'].isin(filtro_programas)]\n",
    "_2022AD1=_2022AD1[_2022AD1['Clave Estatus Insc Grupo']==\"RE\"]\n",
    "_2022AD1=_2022AD1[_2022AD1['Ind Materia Life']=='SI']\n",
    "\n",
    "\n",
    "#2023\n",
    "_2023EJ1=_2023EJ1[_2023EJ1['Clave Major Pgma Acad'].isin(filtro_programas)]\n",
    "_2020EJ1=_2023EJ1[_2023EJ1['Clave Estatus Insc Grupo']==\"RE\"]\n",
    "_2023EJ1=_2023EJ1[_2023EJ1['Ind Materia Life']=='SI']\n",
    "\n",
    "_2023AD1=_2023AD1[_2023AD1['Clave Major Pgma Acad'].isin(filtro_programas)]\n",
    "_2023AD1=_2023AD1[_2023AD1['Clave Estatus Insc Grupo']==\"RE\"]\n",
    "_2023AD1=_2023AD1[_2023AD1['Ind Materia Life']=='SI']\n",
    "\n",
    "print(escuela_str+\" 2020 totales: \", len(_2020EJ1)+len(_2020AD1))\n",
    "print(escuela_str+\" 2021 totales: \", len(_2021EJ1)+len(_2021AD1))\n",
    "print(escuela_str+\" 2022 totales: \", len(_2022EJ1)+len(_2022AD1))\n",
    "print(escuela_str+\" 2023 totales: \", len(_2023EJ1)+len(_2023AD1))"
   ]
  },
  {
   "cell_type": "code",
   "execution_count": 45,
   "metadata": {},
   "outputs": [
    {
     "name": "stdout",
     "output_type": "stream",
     "text": [
      "Arquitectura, Arte y Diseño 2020 únicos:  5225\n",
      "Arquitectura, Arte y Diseño 2021 únicos:  4172\n",
      "Arquitectura, Arte y Diseño 2022 únicos:  5222\n",
      "Arquitectura, Arte y Diseño 2023 únicos:  6349\n"
     ]
    }
   ],
   "source": [
    "\n",
    "\n",
    "print(escuela_str+\" 2020 únicos: \", len(_2020EJ1.drop_duplicates(subset='Matricula'))+len(_2020AD1.drop_duplicates(subset='Matricula')))\n",
    "print(escuela_str+\" 2021 únicos: \", len(_2021EJ1.drop_duplicates(subset='Matricula'))+len(_2021AD1.drop_duplicates(subset='Matricula')))\n",
    "print(escuela_str+\" 2022 únicos: \", len(_2022EJ1.drop_duplicates(subset='Matricula'))+len(_2022AD1.drop_duplicates(subset='Matricula')))\n",
    "print(escuela_str+\" 2023 únicos: \", len(_2023EJ1.drop_duplicates(subset='Matricula'))+len(_2023AD1.drop_duplicates(subset='Matricula')))"
   ]
  },
  {
   "cell_type": "markdown",
   "metadata": {},
   "source": [
    "## Arte y Cultura"
   ]
  },
  {
   "cell_type": "markdown",
   "metadata": {},
   "source": [
    "### Inscripciones únicas"
   ]
  },
  {
   "cell_type": "code",
   "execution_count": 46,
   "metadata": {},
   "outputs": [
    {
     "name": "stdout",
     "output_type": "stream",
     "text": [
      "Arquitectura, Arte y Diseño Y 2020:  2083\n",
      "Arquitectura, Arte y Diseño Y 2021:  2322\n",
      "Arquitectura, Arte y Diseño Y 2022:  2904\n",
      "Arquitectura, Arte y Diseño Y 2023:  3560\n"
     ]
    }
   ],
   "source": [
    "portafolio_str=\"Y\"\n",
    "unicos= \"SI\"\n",
    "imprimir(_2020EJ,_2020AD,_2021EJ,_2021AD,_2022EJ,_2022AD,_2023EJ,_2023AD, escuela_str,portafolio_str,unicos)"
   ]
  },
  {
   "cell_type": "markdown",
   "metadata": {},
   "source": [
    "### Inscripciones totales"
   ]
  },
  {
   "cell_type": "code",
   "execution_count": 47,
   "metadata": {},
   "outputs": [],
   "source": [
    "unicos= \"NO\""
   ]
  },
  {
   "cell_type": "markdown",
   "metadata": {},
   "source": [
    "#### Compañías"
   ]
  },
  {
   "cell_type": "code",
   "execution_count": 48,
   "metadata": {},
   "outputs": [
    {
     "name": "stdout",
     "output_type": "stream",
     "text": [
      "Arquitectura, Arte y Diseño Compañía 2020:  481\n",
      "Arquitectura, Arte y Diseño Compañía 2021:  532\n",
      "Arquitectura, Arte y Diseño Compañía 2022:  618\n",
      "Arquitectura, Arte y Diseño Compañía 2023:  510\n"
     ]
    }
   ],
   "source": [
    "portafolio_str=\"Compañía\"\n",
    "imprimir(_2020EJ,_2020AD,_2021EJ,_2021AD,_2022EJ,_2022AD,_2023EJ,_2023AD, escuela_str,portafolio_str,unicos)"
   ]
  },
  {
   "cell_type": "markdown",
   "metadata": {},
   "source": [
    "#### Clases y talleres"
   ]
  },
  {
   "cell_type": "code",
   "execution_count": 49,
   "metadata": {},
   "outputs": [
    {
     "name": "stdout",
     "output_type": "stream",
     "text": [
      "Arquitectura, Arte y Diseño Clases_y 2020:  2318\n",
      "Arquitectura, Arte y Diseño Clases_y 2021:  2528\n",
      "Arquitectura, Arte y Diseño Clases_y 2022:  3182\n",
      "Arquitectura, Arte y Diseño Clases_y 2023:  5943\n"
     ]
    }
   ],
   "source": [
    "portafolio_str=\"Clases_y\"\n",
    "imprimir(_2020EJ,_2020AD,_2021EJ,_2021AD,_2022EJ,_2022AD,_2023EJ,_2023AD, escuela_str,portafolio_str,unicos)"
   ]
  },
  {
   "cell_type": "markdown",
   "metadata": {},
   "source": [
    "## Atlético y Deportivo"
   ]
  },
  {
   "cell_type": "markdown",
   "metadata": {},
   "source": [
    "### Inscripciones únicas"
   ]
  },
  {
   "cell_type": "code",
   "execution_count": 50,
   "metadata": {},
   "outputs": [
    {
     "name": "stdout",
     "output_type": "stream",
     "text": [
      "Arquitectura, Arte y Diseño X 2020:  1729\n",
      "Arquitectura, Arte y Diseño X 2021:  1722\n",
      "Arquitectura, Arte y Diseño X 2022:  2691\n",
      "Arquitectura, Arte y Diseño X 2023:  3267\n"
     ]
    }
   ],
   "source": [
    "portafolio_str=\"X\"\n",
    "unicos= \"SI\"\n",
    "imprimir(_2020EJ,_2020AD,_2021EJ,_2021AD,_2022EJ,_2022AD,_2023EJ,_2023AD, escuela_str,portafolio_str,unicos)"
   ]
  },
  {
   "cell_type": "markdown",
   "metadata": {},
   "source": [
    "### Inscripciones totales"
   ]
  },
  {
   "cell_type": "code",
   "execution_count": 51,
   "metadata": {},
   "outputs": [],
   "source": [
    "unicos= \"NO\""
   ]
  },
  {
   "cell_type": "markdown",
   "metadata": {},
   "source": [
    "#### Representativos"
   ]
  },
  {
   "cell_type": "code",
   "execution_count": 52,
   "metadata": {},
   "outputs": [
    {
     "name": "stdout",
     "output_type": "stream",
     "text": [
      "Arquitectura, Arte y Diseño Representativo 2020:  333\n",
      "Arquitectura, Arte y Diseño Representativo 2021:  390\n",
      "Arquitectura, Arte y Diseño Representativo 2022:  264\n",
      "Arquitectura, Arte y Diseño Representativo 2023:  286\n"
     ]
    }
   ],
   "source": [
    "portafolio_str=\"Representativo\"\n",
    "imprimir(_2020EJ,_2020AD,_2021EJ,_2021AD,_2022EJ,_2022AD,_2023EJ,_2023AD, escuela_str,portafolio_str,unicos)"
   ]
  },
  {
   "cell_type": "markdown",
   "metadata": {},
   "source": [
    "#### Selecciones"
   ]
  },
  {
   "cell_type": "code",
   "execution_count": 53,
   "metadata": {},
   "outputs": [
    {
     "name": "stdout",
     "output_type": "stream",
     "text": [
      "Arquitectura, Arte y Diseño Selección 2020:  175\n",
      "Arquitectura, Arte y Diseño Selección 2021:  206\n",
      "Arquitectura, Arte y Diseño Selección 2022:  297\n",
      "Arquitectura, Arte y Diseño Selección 2023:  237\n"
     ]
    }
   ],
   "source": [
    "portafolio_str=\"Selección\"\n",
    "imprimir(_2020EJ,_2020AD,_2021EJ,_2021AD,_2022EJ,_2022AD,_2023EJ,_2023AD, escuela_str,portafolio_str,unicos)"
   ]
  },
  {
   "cell_type": "markdown",
   "metadata": {},
   "source": [
    "#### Clases y Talleres"
   ]
  },
  {
   "cell_type": "code",
   "execution_count": 54,
   "metadata": {},
   "outputs": [
    {
     "name": "stdout",
     "output_type": "stream",
     "text": [
      "Arquitectura, Arte y Diseño Clases_x 2020:  1527\n",
      "Arquitectura, Arte y Diseño Clases_x 2021:  1385\n",
      "Arquitectura, Arte y Diseño Clases_x 2022:  2570\n",
      "Arquitectura, Arte y Diseño Clases_x 2023:  4039\n"
     ]
    }
   ],
   "source": [
    "portafolio_str=\"Clases_x\"\n",
    "imprimir(_2020EJ,_2020AD,_2021EJ,_2021AD,_2022EJ,_2022AD,_2023EJ,_2023AD, escuela_str,portafolio_str,unicos)"
   ]
  },
  {
   "cell_type": "markdown",
   "metadata": {},
   "source": [
    "## Bienestar"
   ]
  },
  {
   "cell_type": "markdown",
   "metadata": {},
   "source": [
    "### Inscripciones únicas"
   ]
  },
  {
   "cell_type": "code",
   "execution_count": 55,
   "metadata": {},
   "outputs": [
    {
     "name": "stdout",
     "output_type": "stream",
     "text": [
      "Arquitectura, Arte y Diseño KW 2020:  211\n",
      "Arquitectura, Arte y Diseño KW 2021:  313\n",
      "Arquitectura, Arte y Diseño KW 2022:  321\n",
      "Arquitectura, Arte y Diseño KW 2023:  277\n"
     ]
    }
   ],
   "source": [
    "portafolio_str=\"KW\"\n",
    "unicos= \"SI\"\n",
    "imprimir(_2020EJ,_2020AD,_2021EJ,_2021AD,_2022EJ,_2022AD,_2023EJ,_2023AD, escuela_str,portafolio_str,unicos)"
   ]
  },
  {
   "cell_type": "markdown",
   "metadata": {},
   "source": [
    "### Inscripciones totales"
   ]
  },
  {
   "cell_type": "code",
   "execution_count": 56,
   "metadata": {},
   "outputs": [
    {
     "name": "stdout",
     "output_type": "stream",
     "text": [
      "Arquitectura, Arte y Diseño KW 2020:  217\n",
      "Arquitectura, Arte y Diseño KW 2021:  320\n",
      "Arquitectura, Arte y Diseño KW 2022:  361\n",
      "Arquitectura, Arte y Diseño KW 2023:  289\n"
     ]
    }
   ],
   "source": [
    "portafolio_str=\"KW\"\n",
    "unicos= \"NO\"\n",
    "imprimir(_2020EJ,_2020AD,_2021EJ,_2021AD,_2022EJ,_2022AD,_2023EJ,_2023AD, escuela_str,portafolio_str,unicos)"
   ]
  },
  {
   "cell_type": "markdown",
   "metadata": {},
   "source": [
    "## CVDP"
   ]
  },
  {
   "cell_type": "markdown",
   "metadata": {},
   "source": [
    "### Inscripciones únicas"
   ]
  },
  {
   "cell_type": "code",
   "execution_count": 57,
   "metadata": {},
   "outputs": [
    {
     "name": "stdout",
     "output_type": "stream",
     "text": [
      "Arquitectura, Arte y Diseño KC 2020:  416\n",
      "Arquitectura, Arte y Diseño KC 2021:  351\n",
      "Arquitectura, Arte y Diseño KC 2022:  186\n",
      "Arquitectura, Arte y Diseño KC 2023:  314\n"
     ]
    }
   ],
   "source": [
    "portafolio_str=\"KC\"\n",
    "unicos= \"SI\"\n",
    "imprimir(_2020EJ,_2020AD,_2021EJ,_2021AD,_2022EJ,_2022AD,_2023EJ,_2023AD, escuela_str,portafolio_str,unicos)"
   ]
  },
  {
   "cell_type": "markdown",
   "metadata": {},
   "source": [
    "### Inscripciones totales"
   ]
  },
  {
   "cell_type": "code",
   "execution_count": 58,
   "metadata": {},
   "outputs": [
    {
     "name": "stdout",
     "output_type": "stream",
     "text": [
      "Arquitectura, Arte y Diseño KC 2020:  438\n",
      "Arquitectura, Arte y Diseño KC 2021:  373\n",
      "Arquitectura, Arte y Diseño KC 2022:  197\n",
      "Arquitectura, Arte y Diseño KC 2023:  341\n"
     ]
    }
   ],
   "source": [
    "portafolio_str=\"KC\"\n",
    "unicos= \"NO\"\n",
    "imprimir(_2020EJ,_2020AD,_2021EJ,_2021AD,_2022EJ,_2022AD,_2023EJ,_2023AD, escuela_str,portafolio_str,unicos)"
   ]
  },
  {
   "cell_type": "markdown",
   "metadata": {},
   "source": [
    "## Grupos Estudiantiles"
   ]
  },
  {
   "cell_type": "markdown",
   "metadata": {},
   "source": [
    "### Inscripciones únicas"
   ]
  },
  {
   "cell_type": "code",
   "execution_count": 59,
   "metadata": {},
   "outputs": [
    {
     "name": "stdout",
     "output_type": "stream",
     "text": [
      "Arquitectura, Arte y Diseño Gobierno 2020:  472\n",
      "Arquitectura, Arte y Diseño Gobierno 2021:  353\n",
      "Arquitectura, Arte y Diseño Gobierno 2022:  304\n",
      "Arquitectura, Arte y Diseño Gobierno 2023:  315\n"
     ]
    }
   ],
   "source": [
    "portafolio_str=\"Gobierno\"\n",
    "unicos= \"SI\"\n",
    "imprimir(_2020EJ,_2020AD,_2021EJ,_2021AD,_2022EJ,_2022AD,_2023EJ,_2023AD, escuela_str,portafolio_str,unicos)"
   ]
  },
  {
   "cell_type": "markdown",
   "metadata": {},
   "source": [
    "### Inscripciones totales"
   ]
  },
  {
   "cell_type": "code",
   "execution_count": 60,
   "metadata": {},
   "outputs": [
    {
     "name": "stdout",
     "output_type": "stream",
     "text": [
      "Arquitectura, Arte y Diseño KLID3 2020:  470\n",
      "Arquitectura, Arte y Diseño KLID3 2021:  368\n",
      "Arquitectura, Arte y Diseño KLID3 2022:  266\n",
      "Arquitectura, Arte y Diseño KLID3 2023:  227\n"
     ]
    }
   ],
   "source": [
    "portafolio_str=\"KLID3\"\n",
    "unicos= \"NO\"\n",
    "imprimir(_2020EJ,_2020AD,_2021EJ,_2021AD,_2022EJ,_2022AD,_2023EJ,_2023AD, escuela_str,portafolio_str,unicos)"
   ]
  }
 ],
 "metadata": {
  "kernelspec": {
   "display_name": "Python 3",
   "language": "python",
   "name": "python3"
  },
  "language_info": {
   "codemirror_mode": {
    "name": "ipython",
    "version": 3
   },
   "file_extension": ".py",
   "mimetype": "text/x-python",
   "name": "python",
   "nbconvert_exporter": "python",
   "pygments_lexer": "ipython3",
   "version": "3.12.0"
  }
 },
 "nbformat": 4,
 "nbformat_minor": 2
}
